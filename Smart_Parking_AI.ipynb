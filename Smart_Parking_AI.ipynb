
## mounting google drive
from google.colab import drive
drive.mount('/content/drive')
Drive already mounted at /content/drive; to attempt to forcibly remount, call drive.mount("/content/drive", force_remount=True).
import os
os.chdir('/content/drive/My Drive/MASKED_RCNN')
!ls
AI_Car_parking_video.mp4  Mask_RCNN
## since we are using Mask RCNN it is build sarrounded by keras 2.0.8 and tensorflow 1.3 so we need to update the keras and tensorflow
!pip install keras==2.0.8
Collecting keras==2.0.8
  Downloading https://files.pythonhosted.org/packages/67/3f/d117d6e48b19fb9589369f4bdbe883aa88943f8bb4a850559ea5c546fefb/Keras-2.0.8-py2.py3-none-any.whl (276kB)
     |████████████████████████████████| 276kB 8.4MB/s 
Requirement already satisfied: scipy>=0.14 in /usr/local/lib/python3.7/dist-packages (from keras==2.0.8) (1.4.1)
Requirement already satisfied: pyyaml in /usr/local/lib/python3.7/dist-packages (from keras==2.0.8) (3.13)
Requirement already satisfied: numpy>=1.9.1 in /usr/local/lib/python3.7/dist-packages (from keras==2.0.8) (1.19.5)
Requirement already satisfied: six>=1.9.0 in /usr/local/lib/python3.7/dist-packages (from keras==2.0.8) (1.15.0)
ERROR: textgenrnn 1.4.1 has requirement keras>=2.1.5, but you'll have keras 2.0.8 which is incompatible.
Installing collected packages: keras
  Found existing installation: Keras 2.4.3
    Uninstalling Keras-2.4.3:
      Successfully uninstalled Keras-2.4.3
Successfully installed keras-2.0.8
!pip install tensorflow==1.13.2
Collecting tensorflow==1.13.2
  Downloading https://files.pythonhosted.org/packages/bc/70/45d3b9fab768215a2055c7819d39547a4b0b7401b4583094068741aff99b/tensorflow-1.13.2-cp37-cp37m-manylinux1_x86_64.whl (92.7MB)
     |████████████████████████████████| 92.7MB 44kB/s 
Requirement already satisfied: astor>=0.6.0 in /usr/local/lib/python3.7/dist-packages (from tensorflow==1.13.2) (0.8.1)
Requirement already satisfied: six>=1.10.0 in /usr/local/lib/python3.7/dist-packages (from tensorflow==1.13.2) (1.15.0)
Requirement already satisfied: absl-py>=0.1.6 in /usr/local/lib/python3.7/dist-packages (from tensorflow==1.13.2) (0.10.0)
Collecting tensorboard<1.14.0,>=1.13.0
  Downloading https://files.pythonhosted.org/packages/0f/39/bdd75b08a6fba41f098b6cb091b9e8c7a80e1b4d679a581a0ccd17b10373/tensorboard-1.13.1-py3-none-any.whl (3.2MB)
     |████████████████████████████████| 3.2MB 48.9MB/s 
Requirement already satisfied: keras-preprocessing>=1.0.5 in /usr/local/lib/python3.7/dist-packages (from tensorflow==1.13.2) (1.1.2)
Requirement already satisfied: wheel>=0.26 in /usr/local/lib/python3.7/dist-packages (from tensorflow==1.13.2) (0.36.2)
Collecting tensorflow-estimator<1.14.0rc0,>=1.13.0
  Downloading https://files.pythonhosted.org/packages/bb/48/13f49fc3fa0fdf916aa1419013bb8f2ad09674c275b4046d5ee669a46873/tensorflow_estimator-1.13.0-py2.py3-none-any.whl (367kB)
     |████████████████████████████████| 368kB 49.3MB/s 
Requirement already satisfied: gast>=0.2.0 in /usr/local/lib/python3.7/dist-packages (from tensorflow==1.13.2) (0.3.3)
Requirement already satisfied: grpcio>=1.8.6 in /usr/local/lib/python3.7/dist-packages (from tensorflow==1.13.2) (1.32.0)
Requirement already satisfied: numpy<2.0,>=1.16.0 in /usr/local/lib/python3.7/dist-packages (from tensorflow==1.13.2) (1.19.5)
Requirement already satisfied: protobuf>=3.6.1 in /usr/local/lib/python3.7/dist-packages (from tensorflow==1.13.2) (3.12.4)
Requirement already satisfied: termcolor>=1.1.0 in /usr/local/lib/python3.7/dist-packages (from tensorflow==1.13.2) (1.1.0)
Collecting keras-applications>=1.0.6
  Downloading https://files.pythonhosted.org/packages/71/e3/19762fdfc62877ae9102edf6342d71b28fbfd9dea3d2f96a882ce099b03f/Keras_Applications-1.0.8-py3-none-any.whl (50kB)
     |████████████████████████████████| 51kB 5.5MB/s 
Requirement already satisfied: werkzeug>=0.11.15 in /usr/local/lib/python3.7/dist-packages (from tensorboard<1.14.0,>=1.13.0->tensorflow==1.13.2) (1.0.1)
Requirement already satisfied: markdown>=2.6.8 in /usr/local/lib/python3.7/dist-packages (from tensorboard<1.14.0,>=1.13.0->tensorflow==1.13.2) (3.3.4)
Collecting mock>=2.0.0
  Downloading https://files.pythonhosted.org/packages/5c/03/b7e605db4a57c0f6fba744b11ef3ddf4ddebcada35022927a2b5fc623fdf/mock-4.0.3-py3-none-any.whl
Requirement already satisfied: setuptools in /usr/local/lib/python3.7/dist-packages (from protobuf>=3.6.1->tensorflow==1.13.2) (54.0.0)
Requirement already satisfied: h5py in /usr/local/lib/python3.7/dist-packages (from keras-applications>=1.0.6->tensorflow==1.13.2) (2.10.0)
Requirement already satisfied: importlib-metadata; python_version < "3.8" in /usr/local/lib/python3.7/dist-packages (from markdown>=2.6.8->tensorboard<1.14.0,>=1.13.0->tensorflow==1.13.2) (3.7.0)
Requirement already satisfied: typing-extensions>=3.6.4; python_version < "3.8" in /usr/local/lib/python3.7/dist-packages (from importlib-metadata; python_version < "3.8"->markdown>=2.6.8->tensorboard<1.14.0,>=1.13.0->tensorflow==1.13.2) (3.7.4.3)
Requirement already satisfied: zipp>=0.5 in /usr/local/lib/python3.7/dist-packages (from importlib-metadata; python_version < "3.8"->markdown>=2.6.8->tensorboard<1.14.0,>=1.13.0->tensorflow==1.13.2) (3.4.1)
Installing collected packages: tensorboard, mock, tensorflow-estimator, keras-applications, tensorflow
  Found existing installation: tensorboard 2.4.1
    Uninstalling tensorboard-2.4.1:
      Successfully uninstalled tensorboard-2.4.1
  Found existing installation: tensorflow-estimator 2.4.0
    Uninstalling tensorflow-estimator-2.4.0:
      Successfully uninstalled tensorflow-estimator-2.4.0
  Found existing installation: tensorflow 2.4.1
    Uninstalling tensorflow-2.4.1:
      Successfully uninstalled tensorflow-2.4.1
Successfully installed keras-applications-1.0.8 mock-4.0.3 tensorboard-1.13.1 tensorflow-1.13.2 tensorflow-estimator-1.13.0
!nvidia-smi
Sun Mar 14 06:13:42 2021       
+-----------------------------------------------------------------------------+
| NVIDIA-SMI 460.56       Driver Version: 460.32.03    CUDA Version: 11.2     |
|-------------------------------+----------------------+----------------------+
| GPU  Name        Persistence-M| Bus-Id        Disp.A | Volatile Uncorr. ECC |
| Fan  Temp  Perf  Pwr:Usage/Cap|         Memory-Usage | GPU-Util  Compute M. |
|                               |                      |               MIG M. |
|===============================+======================+======================|
|   0  Tesla T4            Off  | 00000000:00:04.0 Off |                    0 |
| N/A   36C    P8     9W /  70W |      0MiB / 15109MiB |      0%      Default |
|                               |                      |                  N/A |
+-------------------------------+----------------------+----------------------+
                                                                               
+-----------------------------------------------------------------------------+
| Processes:                                                                  |
|  GPU   GI   CI        PID   Type   Process name                  GPU Memory |
|        ID   ID                                                   Usage      |
|=============================================================================|
|  No running processes found                                                 |
+-----------------------------------------------------------------------------+
## git cloning of the MaskRCNN repository
!git clone https://github.com/matterport/Mask_RCNN.git
fatal: destination path 'Mask_RCNN' already exists and is not an empty directory.
!pip install twilio
Collecting twilio
  Downloading https://files.pythonhosted.org/packages/c7/c2/aad9b42e2513a09b10630558a392d557d193feeece1b1d0bb3154b4d4c13/twilio-6.53.0.tar.gz (470kB)
     |████████████████████████████████| 471kB 7.2MB/s 
Requirement already satisfied: six in /usr/local/lib/python3.7/dist-packages (from twilio) (1.15.0)
Requirement already satisfied: pytz in /usr/local/lib/python3.7/dist-packages (from twilio) (2018.9)
Collecting PyJWT==1.7.1
  Downloading https://files.pythonhosted.org/packages/87/8b/6a9f14b5f781697e51259d81657e6048fd31a113229cf346880bb7545565/PyJWT-1.7.1-py2.py3-none-any.whl
Requirement already satisfied: requests>=2.0.0 in /usr/local/lib/python3.7/dist-packages (from twilio) (2.23.0)
Requirement already satisfied: chardet<4,>=3.0.2 in /usr/local/lib/python3.7/dist-packages (from requests>=2.0.0->twilio) (3.0.4)
Requirement already satisfied: idna<3,>=2.5 in /usr/local/lib/python3.7/dist-packages (from requests>=2.0.0->twilio) (2.10)
Requirement already satisfied: urllib3!=1.25.0,!=1.25.1,<1.26,>=1.21.1 in /usr/local/lib/python3.7/dist-packages (from requests>=2.0.0->twilio) (1.24.3)
Requirement already satisfied: certifi>=2017.4.17 in /usr/local/lib/python3.7/dist-packages (from requests>=2.0.0->twilio) (2020.12.5)
Building wheels for collected packages: twilio
  Building wheel for twilio (setup.py) ... done
  Created wheel for twilio: filename=twilio-6.53.0-py2.py3-none-any.whl size=1251197 sha256=2390e24fbf1fbe3a9e55bf8a3d6c5467c80e50a9547764d6ba08cade38de5a03
  Stored in directory: /root/.cache/pip/wheels/80/92/b0/f7fcc5d56edd9d23fe35c73400c6f600aefe736e05a9e70806
Successfully built twilio
Installing collected packages: PyJWT, twilio
Successfully installed PyJWT-1.7.1 twilio-6.53.0
import sys
import os

root_dir=os.path.abspath('/content/drive/MyDrive/MASKED_RCNN/Mask_RCNN')
sys.path.append(root_dir)
sys.path
['',
 '/content',
 '/env/python',
 '/usr/lib/python37.zip',
 '/usr/lib/python3.7',
 '/usr/lib/python3.7/lib-dynload',
 '/usr/local/lib/python3.7/dist-packages',
 '/usr/lib/python3/dist-packages',
 '/usr/local/lib/python3.7/dist-packages/IPython/extensions',
 '/root/.ipython',
 '/content/Mask_RCNN',
 '/content/Mask_RCNN',
 '/content/Mask_RCNN',
 '/content/Mask_RCNN/samples/coco',
 '/content/drive/MyDrive/MASKED_RCNN/Mask_RCNN/samples/coco',
 '/content/drive/MyDrive',
 '/content/drive/MyDrive/MASKED_RCNN/Mask_RCNN']
## installing requirement txt file
!pip install -r /content/drive/MyDrive/MASKED_RCNN/Mask_RCNN/requirements.txt
Requirement already satisfied: numpy in /usr/local/lib/python3.7/dist-packages (from -r /content/drive/MyDrive/MASKED_RCNN/Mask_RCNN/requirements.txt (line 1)) (1.19.5)
Requirement already satisfied: scipy in /usr/local/lib/python3.7/dist-packages (from -r /content/drive/MyDrive/MASKED_RCNN/Mask_RCNN/requirements.txt (line 2)) (1.4.1)
Requirement already satisfied: Pillow in /usr/local/lib/python3.7/dist-packages (from -r /content/drive/MyDrive/MASKED_RCNN/Mask_RCNN/requirements.txt (line 3)) (7.0.0)
Requirement already satisfied: cython in /usr/local/lib/python3.7/dist-packages (from -r /content/drive/MyDrive/MASKED_RCNN/Mask_RCNN/requirements.txt (line 4)) (0.29.22)
Requirement already satisfied: matplotlib in /usr/local/lib/python3.7/dist-packages (from -r /content/drive/MyDrive/MASKED_RCNN/Mask_RCNN/requirements.txt (line 5)) (3.2.2)
Requirement already satisfied: scikit-image in /usr/local/lib/python3.7/dist-packages (from -r /content/drive/MyDrive/MASKED_RCNN/Mask_RCNN/requirements.txt (line 6)) (0.16.2)
Requirement already satisfied: tensorflow>=1.3.0 in /usr/local/lib/python3.7/dist-packages (from -r /content/drive/MyDrive/MASKED_RCNN/Mask_RCNN/requirements.txt (line 7)) (1.13.2)
Requirement already satisfied: keras>=2.0.8 in /usr/local/lib/python3.7/dist-packages (from -r /content/drive/MyDrive/MASKED_RCNN/Mask_RCNN/requirements.txt (line 8)) (2.0.8)
Requirement already satisfied: opencv-python in /usr/local/lib/python3.7/dist-packages (from -r /content/drive/MyDrive/MASKED_RCNN/Mask_RCNN/requirements.txt (line 9)) (4.1.2.30)
Requirement already satisfied: h5py in /usr/local/lib/python3.7/dist-packages (from -r /content/drive/MyDrive/MASKED_RCNN/Mask_RCNN/requirements.txt (line 10)) (2.10.0)
Requirement already satisfied: imgaug in /usr/local/lib/python3.7/dist-packages (from -r /content/drive/MyDrive/MASKED_RCNN/Mask_RCNN/requirements.txt (line 11)) (0.2.9)
Requirement already satisfied: IPython[all] in /usr/local/lib/python3.7/dist-packages (from -r /content/drive/MyDrive/MASKED_RCNN/Mask_RCNN/requirements.txt (line 12)) (5.5.0)
Requirement already satisfied: kiwisolver>=1.0.1 in /usr/local/lib/python3.7/dist-packages (from matplotlib->-r /content/drive/MyDrive/MASKED_RCNN/Mask_RCNN/requirements.txt (line 5)) (1.3.1)
Requirement already satisfied: cycler>=0.10 in /usr/local/lib/python3.7/dist-packages (from matplotlib->-r /content/drive/MyDrive/MASKED_RCNN/Mask_RCNN/requirements.txt (line 5)) (0.10.0)
Requirement already satisfied: python-dateutil>=2.1 in /usr/local/lib/python3.7/dist-packages (from matplotlib->-r /content/drive/MyDrive/MASKED_RCNN/Mask_RCNN/requirements.txt (line 5)) (2.8.1)
Requirement already satisfied: pyparsing!=2.0.4,!=2.1.2,!=2.1.6,>=2.0.1 in /usr/local/lib/python3.7/dist-packages (from matplotlib->-r /content/drive/MyDrive/MASKED_RCNN/Mask_RCNN/requirements.txt (line 5)) (2.4.7)
Requirement already satisfied: imageio>=2.3.0 in /usr/local/lib/python3.7/dist-packages (from scikit-image->-r /content/drive/MyDrive/MASKED_RCNN/Mask_RCNN/requirements.txt (line 6)) (2.4.1)
Requirement already satisfied: PyWavelets>=0.4.0 in /usr/local/lib/python3.7/dist-packages (from scikit-image->-r /content/drive/MyDrive/MASKED_RCNN/Mask_RCNN/requirements.txt (line 6)) (1.1.1)
Requirement already satisfied: networkx>=2.0 in /usr/local/lib/python3.7/dist-packages (from scikit-image->-r /content/drive/MyDrive/MASKED_RCNN/Mask_RCNN/requirements.txt (line 6)) (2.5)
Requirement already satisfied: astor>=0.6.0 in /usr/local/lib/python3.7/dist-packages (from tensorflow>=1.3.0->-r /content/drive/MyDrive/MASKED_RCNN/Mask_RCNN/requirements.txt (line 7)) (0.8.1)
Requirement already satisfied: six>=1.10.0 in /usr/local/lib/python3.7/dist-packages (from tensorflow>=1.3.0->-r /content/drive/MyDrive/MASKED_RCNN/Mask_RCNN/requirements.txt (line 7)) (1.15.0)
Requirement already satisfied: tensorboard<1.14.0,>=1.13.0 in /usr/local/lib/python3.7/dist-packages (from tensorflow>=1.3.0->-r /content/drive/MyDrive/MASKED_RCNN/Mask_RCNN/requirements.txt (line 7)) (1.13.1)
Requirement already satisfied: termcolor>=1.1.0 in /usr/local/lib/python3.7/dist-packages (from tensorflow>=1.3.0->-r /content/drive/MyDrive/MASKED_RCNN/Mask_RCNN/requirements.txt (line 7)) (1.1.0)
Requirement already satisfied: tensorflow-estimator<1.14.0rc0,>=1.13.0 in /usr/local/lib/python3.7/dist-packages (from tensorflow>=1.3.0->-r /content/drive/MyDrive/MASKED_RCNN/Mask_RCNN/requirements.txt (line 7)) (1.13.0)
Requirement already satisfied: absl-py>=0.1.6 in /usr/local/lib/python3.7/dist-packages (from tensorflow>=1.3.0->-r /content/drive/MyDrive/MASKED_RCNN/Mask_RCNN/requirements.txt (line 7)) (0.10.0)
Requirement already satisfied: wheel>=0.26 in /usr/local/lib/python3.7/dist-packages (from tensorflow>=1.3.0->-r /content/drive/MyDrive/MASKED_RCNN/Mask_RCNN/requirements.txt (line 7)) (0.36.2)
Requirement already satisfied: protobuf>=3.6.1 in /usr/local/lib/python3.7/dist-packages (from tensorflow>=1.3.0->-r /content/drive/MyDrive/MASKED_RCNN/Mask_RCNN/requirements.txt (line 7)) (3.12.4)
Requirement already satisfied: keras-applications>=1.0.6 in /usr/local/lib/python3.7/dist-packages (from tensorflow>=1.3.0->-r /content/drive/MyDrive/MASKED_RCNN/Mask_RCNN/requirements.txt (line 7)) (1.0.8)
Requirement already satisfied: gast>=0.2.0 in /usr/local/lib/python3.7/dist-packages (from tensorflow>=1.3.0->-r /content/drive/MyDrive/MASKED_RCNN/Mask_RCNN/requirements.txt (line 7)) (0.3.3)
Requirement already satisfied: keras-preprocessing>=1.0.5 in /usr/local/lib/python3.7/dist-packages (from tensorflow>=1.3.0->-r /content/drive/MyDrive/MASKED_RCNN/Mask_RCNN/requirements.txt (line 7)) (1.1.2)
Requirement already satisfied: grpcio>=1.8.6 in /usr/local/lib/python3.7/dist-packages (from tensorflow>=1.3.0->-r /content/drive/MyDrive/MASKED_RCNN/Mask_RCNN/requirements.txt (line 7)) (1.32.0)
Requirement already satisfied: pyyaml in /usr/local/lib/python3.7/dist-packages (from keras>=2.0.8->-r /content/drive/MyDrive/MASKED_RCNN/Mask_RCNN/requirements.txt (line 8)) (3.13)
Requirement already satisfied: Shapely in /usr/local/lib/python3.7/dist-packages (from imgaug->-r /content/drive/MyDrive/MASKED_RCNN/Mask_RCNN/requirements.txt (line 11)) (1.7.1)
Requirement already satisfied: setuptools>=18.5 in /usr/local/lib/python3.7/dist-packages (from IPython[all]->-r /content/drive/MyDrive/MASKED_RCNN/Mask_RCNN/requirements.txt (line 12)) (54.0.0)
Requirement already satisfied: decorator in /usr/local/lib/python3.7/dist-packages (from IPython[all]->-r /content/drive/MyDrive/MASKED_RCNN/Mask_RCNN/requirements.txt (line 12)) (4.4.2)
Requirement already satisfied: pickleshare in /usr/local/lib/python3.7/dist-packages (from IPython[all]->-r /content/drive/MyDrive/MASKED_RCNN/Mask_RCNN/requirements.txt (line 12)) (0.7.5)
Requirement already satisfied: simplegeneric>0.8 in /usr/local/lib/python3.7/dist-packages (from IPython[all]->-r /content/drive/MyDrive/MASKED_RCNN/Mask_RCNN/requirements.txt (line 12)) (0.8.1)
Requirement already satisfied: pexpect; sys_platform != "win32" in /usr/local/lib/python3.7/dist-packages (from IPython[all]->-r /content/drive/MyDrive/MASKED_RCNN/Mask_RCNN/requirements.txt (line 12)) (4.8.0)
Requirement already satisfied: traitlets>=4.2 in /usr/local/lib/python3.7/dist-packages (from IPython[all]->-r /content/drive/MyDrive/MASKED_RCNN/Mask_RCNN/requirements.txt (line 12)) (5.0.5)
Requirement already satisfied: pygments in /usr/local/lib/python3.7/dist-packages (from IPython[all]->-r /content/drive/MyDrive/MASKED_RCNN/Mask_RCNN/requirements.txt (line 12)) (2.6.1)
Requirement already satisfied: prompt-toolkit<2.0.0,>=1.0.4 in /usr/local/lib/python3.7/dist-packages (from IPython[all]->-r /content/drive/MyDrive/MASKED_RCNN/Mask_RCNN/requirements.txt (line 12)) (1.0.18)
Requirement already satisfied: Sphinx>=1.3; extra == "all" in /usr/local/lib/python3.7/dist-packages (from IPython[all]->-r /content/drive/MyDrive/MASKED_RCNN/Mask_RCNN/requirements.txt (line 12)) (1.8.5)
Requirement already satisfied: qtconsole; extra == "all" in /usr/local/lib/python3.7/dist-packages (from IPython[all]->-r /content/drive/MyDrive/MASKED_RCNN/Mask_RCNN/requirements.txt (line 12)) (5.0.2)
Requirement already satisfied: ipykernel; extra == "all" in /usr/local/lib/python3.7/dist-packages (from IPython[all]->-r /content/drive/MyDrive/MASKED_RCNN/Mask_RCNN/requirements.txt (line 12)) (4.10.1)
Requirement already satisfied: nbconvert; extra == "all" in /usr/local/lib/python3.7/dist-packages (from IPython[all]->-r /content/drive/MyDrive/MASKED_RCNN/Mask_RCNN/requirements.txt (line 12)) (5.6.1)
Collecting nose>=0.10.1; extra == "all"
  Downloading https://files.pythonhosted.org/packages/15/d8/dd071918c040f50fa1cf80da16423af51ff8ce4a0f2399b7bf8de45ac3d9/nose-1.3.7-py3-none-any.whl (154kB)
     |████████████████████████████████| 163kB 7.8MB/s 
Requirement already satisfied: notebook; extra == "all" in /usr/local/lib/python3.7/dist-packages (from IPython[all]->-r /content/drive/MyDrive/MASKED_RCNN/Mask_RCNN/requirements.txt (line 12)) (5.3.1)
Requirement already satisfied: requests; extra == "all" in /usr/local/lib/python3.7/dist-packages (from IPython[all]->-r /content/drive/MyDrive/MASKED_RCNN/Mask_RCNN/requirements.txt (line 12)) (2.23.0)
Requirement already satisfied: testpath; extra == "all" in /usr/local/lib/python3.7/dist-packages (from IPython[all]->-r /content/drive/MyDrive/MASKED_RCNN/Mask_RCNN/requirements.txt (line 12)) (0.4.4)
Requirement already satisfied: nbformat; extra == "all" in /usr/local/lib/python3.7/dist-packages (from IPython[all]->-r /content/drive/MyDrive/MASKED_RCNN/Mask_RCNN/requirements.txt (line 12)) (5.1.2)
Collecting ipyparallel; extra == "all"
  Downloading https://files.pythonhosted.org/packages/3b/e9/03a9189eb39276396309faf28bf833b4328befe4513bbf375b811a36a076/ipyparallel-6.3.0-py3-none-any.whl (199kB)
     |████████████████████████████████| 204kB 32.6MB/s 
Requirement already satisfied: ipywidgets; extra == "all" in /usr/local/lib/python3.7/dist-packages (from IPython[all]->-r /content/drive/MyDrive/MASKED_RCNN/Mask_RCNN/requirements.txt (line 12)) (7.6.3)
Requirement already satisfied: werkzeug>=0.11.15 in /usr/local/lib/python3.7/dist-packages (from tensorboard<1.14.0,>=1.13.0->tensorflow>=1.3.0->-r /content/drive/MyDrive/MASKED_RCNN/Mask_RCNN/requirements.txt (line 7)) (1.0.1)
Requirement already satisfied: markdown>=2.6.8 in /usr/local/lib/python3.7/dist-packages (from tensorboard<1.14.0,>=1.13.0->tensorflow>=1.3.0->-r /content/drive/MyDrive/MASKED_RCNN/Mask_RCNN/requirements.txt (line 7)) (3.3.4)
Requirement already satisfied: mock>=2.0.0 in /usr/local/lib/python3.7/dist-packages (from tensorflow-estimator<1.14.0rc0,>=1.13.0->tensorflow>=1.3.0->-r /content/drive/MyDrive/MASKED_RCNN/Mask_RCNN/requirements.txt (line 7)) (4.0.3)
Requirement already satisfied: ptyprocess>=0.5 in /usr/local/lib/python3.7/dist-packages (from pexpect; sys_platform != "win32"->IPython[all]->-r /content/drive/MyDrive/MASKED_RCNN/Mask_RCNN/requirements.txt (line 12)) (0.7.0)
Requirement already satisfied: ipython-genutils in /usr/local/lib/python3.7/dist-packages (from traitlets>=4.2->IPython[all]->-r /content/drive/MyDrive/MASKED_RCNN/Mask_RCNN/requirements.txt (line 12)) (0.2.0)
Requirement already satisfied: wcwidth in /usr/local/lib/python3.7/dist-packages (from prompt-toolkit<2.0.0,>=1.0.4->IPython[all]->-r /content/drive/MyDrive/MASKED_RCNN/Mask_RCNN/requirements.txt (line 12)) (0.2.5)
Requirement already satisfied: snowballstemmer>=1.1 in /usr/local/lib/python3.7/dist-packages (from Sphinx>=1.3; extra == "all"->IPython[all]->-r /content/drive/MyDrive/MASKED_RCNN/Mask_RCNN/requirements.txt (line 12)) (2.1.0)
Requirement already satisfied: Jinja2>=2.3 in /usr/local/lib/python3.7/dist-packages (from Sphinx>=1.3; extra == "all"->IPython[all]->-r /content/drive/MyDrive/MASKED_RCNN/Mask_RCNN/requirements.txt (line 12)) (2.11.3)
Requirement already satisfied: alabaster<0.8,>=0.7 in /usr/local/lib/python3.7/dist-packages (from Sphinx>=1.3; extra == "all"->IPython[all]->-r /content/drive/MyDrive/MASKED_RCNN/Mask_RCNN/requirements.txt (line 12)) (0.7.12)
Requirement already satisfied: sphinxcontrib-websupport in /usr/local/lib/python3.7/dist-packages (from Sphinx>=1.3; extra == "all"->IPython[all]->-r /content/drive/MyDrive/MASKED_RCNN/Mask_RCNN/requirements.txt (line 12)) (1.2.4)
Requirement already satisfied: imagesize in /usr/local/lib/python3.7/dist-packages (from Sphinx>=1.3; extra == "all"->IPython[all]->-r /content/drive/MyDrive/MASKED_RCNN/Mask_RCNN/requirements.txt (line 12)) (1.2.0)
Requirement already satisfied: packaging in /usr/local/lib/python3.7/dist-packages (from Sphinx>=1.3; extra == "all"->IPython[all]->-r /content/drive/MyDrive/MASKED_RCNN/Mask_RCNN/requirements.txt (line 12)) (20.9)
Requirement already satisfied: babel!=2.0,>=1.3 in /usr/local/lib/python3.7/dist-packages (from Sphinx>=1.3; extra == "all"->IPython[all]->-r /content/drive/MyDrive/MASKED_RCNN/Mask_RCNN/requirements.txt (line 12)) (2.9.0)
Requirement already satisfied: docutils>=0.11 in /usr/local/lib/python3.7/dist-packages (from Sphinx>=1.3; extra == "all"->IPython[all]->-r /content/drive/MyDrive/MASKED_RCNN/Mask_RCNN/requirements.txt (line 12)) (0.16)
Requirement already satisfied: pyzmq>=17.1 in /usr/local/lib/python3.7/dist-packages (from qtconsole; extra == "all"->IPython[all]->-r /content/drive/MyDrive/MASKED_RCNN/Mask_RCNN/requirements.txt (line 12)) (22.0.3)
Requirement already satisfied: qtpy in /usr/local/lib/python3.7/dist-packages (from qtconsole; extra == "all"->IPython[all]->-r /content/drive/MyDrive/MASKED_RCNN/Mask_RCNN/requirements.txt (line 12)) (1.9.0)
Requirement already satisfied: jupyter-core in /usr/local/lib/python3.7/dist-packages (from qtconsole; extra == "all"->IPython[all]->-r /content/drive/MyDrive/MASKED_RCNN/Mask_RCNN/requirements.txt (line 12)) (4.7.1)
Requirement already satisfied: jupyter-client>=4.1 in /usr/local/lib/python3.7/dist-packages (from qtconsole; extra == "all"->IPython[all]->-r /content/drive/MyDrive/MASKED_RCNN/Mask_RCNN/requirements.txt (line 12)) (5.3.5)
Requirement already satisfied: tornado>=4.0 in /usr/local/lib/python3.7/dist-packages (from ipykernel; extra == "all"->IPython[all]->-r /content/drive/MyDrive/MASKED_RCNN/Mask_RCNN/requirements.txt (line 12)) (5.1.1)
Requirement already satisfied: entrypoints>=0.2.2 in /usr/local/lib/python3.7/dist-packages (from nbconvert; extra == "all"->IPython[all]->-r /content/drive/MyDrive/MASKED_RCNN/Mask_RCNN/requirements.txt (line 12)) (0.3)
Requirement already satisfied: mistune<2,>=0.8.1 in /usr/local/lib/python3.7/dist-packages (from nbconvert; extra == "all"->IPython[all]->-r /content/drive/MyDrive/MASKED_RCNN/Mask_RCNN/requirements.txt (line 12)) (0.8.4)
Requirement already satisfied: defusedxml in /usr/local/lib/python3.7/dist-packages (from nbconvert; extra == "all"->IPython[all]->-r /content/drive/MyDrive/MASKED_RCNN/Mask_RCNN/requirements.txt (line 12)) (0.7.0)
Requirement already satisfied: pandocfilters>=1.4.1 in /usr/local/lib/python3.7/dist-packages (from nbconvert; extra == "all"->IPython[all]->-r /content/drive/MyDrive/MASKED_RCNN/Mask_RCNN/requirements.txt (line 12)) (1.4.3)
Requirement already satisfied: bleach in /usr/local/lib/python3.7/dist-packages (from nbconvert; extra == "all"->IPython[all]->-r /content/drive/MyDrive/MASKED_RCNN/Mask_RCNN/requirements.txt (line 12)) (3.3.0)
Requirement already satisfied: Send2Trash in /usr/local/lib/python3.7/dist-packages (from notebook; extra == "all"->IPython[all]->-r /content/drive/MyDrive/MASKED_RCNN/Mask_RCNN/requirements.txt (line 12)) (1.5.0)
Requirement already satisfied: terminado>=0.8.1 in /usr/local/lib/python3.7/dist-packages (from notebook; extra == "all"->IPython[all]->-r /content/drive/MyDrive/MASKED_RCNN/Mask_RCNN/requirements.txt (line 12)) (0.9.2)
Requirement already satisfied: urllib3!=1.25.0,!=1.25.1,<1.26,>=1.21.1 in /usr/local/lib/python3.7/dist-packages (from requests; extra == "all"->IPython[all]->-r /content/drive/MyDrive/MASKED_RCNN/Mask_RCNN/requirements.txt (line 12)) (1.24.3)
Requirement already satisfied: idna<3,>=2.5 in /usr/local/lib/python3.7/dist-packages (from requests; extra == "all"->IPython[all]->-r /content/drive/MyDrive/MASKED_RCNN/Mask_RCNN/requirements.txt (line 12)) (2.10)
Requirement already satisfied: certifi>=2017.4.17 in /usr/local/lib/python3.7/dist-packages (from requests; extra == "all"->IPython[all]->-r /content/drive/MyDrive/MASKED_RCNN/Mask_RCNN/requirements.txt (line 12)) (2020.12.5)
Requirement already satisfied: chardet<4,>=3.0.2 in /usr/local/lib/python3.7/dist-packages (from requests; extra == "all"->IPython[all]->-r /content/drive/MyDrive/MASKED_RCNN/Mask_RCNN/requirements.txt (line 12)) (3.0.4)
Requirement already satisfied: jsonschema!=2.5.0,>=2.4 in /usr/local/lib/python3.7/dist-packages (from nbformat; extra == "all"->IPython[all]->-r /content/drive/MyDrive/MASKED_RCNN/Mask_RCNN/requirements.txt (line 12)) (2.6.0)
Requirement already satisfied: jupyterlab-widgets>=1.0.0; python_version >= "3.6" in /usr/local/lib/python3.7/dist-packages (from ipywidgets; extra == "all"->IPython[all]->-r /content/drive/MyDrive/MASKED_RCNN/Mask_RCNN/requirements.txt (line 12)) (1.0.0)
Requirement already satisfied: widgetsnbextension~=3.5.0 in /usr/local/lib/python3.7/dist-packages (from ipywidgets; extra == "all"->IPython[all]->-r /content/drive/MyDrive/MASKED_RCNN/Mask_RCNN/requirements.txt (line 12)) (3.5.1)
Requirement already satisfied: importlib-metadata; python_version < "3.8" in /usr/local/lib/python3.7/dist-packages (from markdown>=2.6.8->tensorboard<1.14.0,>=1.13.0->tensorflow>=1.3.0->-r /content/drive/MyDrive/MASKED_RCNN/Mask_RCNN/requirements.txt (line 7)) (3.7.0)
Requirement already satisfied: MarkupSafe>=0.23 in /usr/local/lib/python3.7/dist-packages (from Jinja2>=2.3->Sphinx>=1.3; extra == "all"->IPython[all]->-r /content/drive/MyDrive/MASKED_RCNN/Mask_RCNN/requirements.txt (line 12)) (1.1.1)
Requirement already satisfied: sphinxcontrib-serializinghtml in /usr/local/lib/python3.7/dist-packages (from sphinxcontrib-websupport->Sphinx>=1.3; extra == "all"->IPython[all]->-r /content/drive/MyDrive/MASKED_RCNN/Mask_RCNN/requirements.txt (line 12)) (1.1.4)
Requirement already satisfied: pytz>=2015.7 in /usr/local/lib/python3.7/dist-packages (from babel!=2.0,>=1.3->Sphinx>=1.3; extra == "all"->IPython[all]->-r /content/drive/MyDrive/MASKED_RCNN/Mask_RCNN/requirements.txt (line 12)) (2018.9)
Requirement already satisfied: webencodings in /usr/local/lib/python3.7/dist-packages (from bleach->nbconvert; extra == "all"->IPython[all]->-r /content/drive/MyDrive/MASKED_RCNN/Mask_RCNN/requirements.txt (line 12)) (0.5.1)
Requirement already satisfied: zipp>=0.5 in /usr/local/lib/python3.7/dist-packages (from importlib-metadata; python_version < "3.8"->markdown>=2.6.8->tensorboard<1.14.0,>=1.13.0->tensorflow>=1.3.0->-r /content/drive/MyDrive/MASKED_RCNN/Mask_RCNN/requirements.txt (line 7)) (3.4.1)
Requirement already satisfied: typing-extensions>=3.6.4; python_version < "3.8" in /usr/local/lib/python3.7/dist-packages (from importlib-metadata; python_version < "3.8"->markdown>=2.6.8->tensorboard<1.14.0,>=1.13.0->tensorflow>=1.3.0->-r /content/drive/MyDrive/MASKED_RCNN/Mask_RCNN/requirements.txt (line 7)) (3.7.4.3)
Installing collected packages: nose, ipyparallel
Successfully installed ipyparallel-6.3.0 nose-1.3.7
!pip install opencv-python
Requirement already satisfied: opencv-python in /usr/local/lib/python3.7/dist-packages (4.1.2.30)
Requirement already satisfied: numpy>=1.14.5 in /usr/local/lib/python3.7/dist-packages (from opencv-python) (1.19.5)
import numpy as np
from numpy.random import randn
import matplotlib.pyplot as plt
from matplotlib import rcParams
import cv2
import keras 
import tensorflow
import seaborn as sns
import os
os.chdir("/content/drive/My Drive/MASKED_RCNN/Mask_RCNN/")
import mrcnn.config
import mrcnn.utils
from mrcnn.model import MaskRCNN
from pathlib import Path
from twilio.rest import Client
## GPU confugaration ## maskRCNN configaration
class interferenceconfig(mrcnn.config.Config):
  NAME = "coco_pretrained_model_config"
  IMAGES_PER_GPU = 1
  GPU_COUNT = 1
  NUM_CLASSES = 1 + 80  
  DETECTION_MIN_CONFIDENCE = 0.6

config= interferenceconfig()
config.display()
Configurations:
BACKBONE                       resnet101
BACKBONE_STRIDES               [4, 8, 16, 32, 64]
BATCH_SIZE                     1
BBOX_STD_DEV                   [0.1 0.1 0.2 0.2]
COMPUTE_BACKBONE_SHAPE         None
DETECTION_MAX_INSTANCES        100
DETECTION_MIN_CONFIDENCE       0.6
DETECTION_NMS_THRESHOLD        0.3
FPN_CLASSIF_FC_LAYERS_SIZE     1024
GPU_COUNT                      1
GRADIENT_CLIP_NORM             5.0
IMAGES_PER_GPU                 1
IMAGE_CHANNEL_COUNT            3
IMAGE_MAX_DIM                  1024
IMAGE_META_SIZE                93
IMAGE_MIN_DIM                  800
IMAGE_MIN_SCALE                0
IMAGE_RESIZE_MODE              square
IMAGE_SHAPE                    [1024 1024    3]
LEARNING_MOMENTUM              0.9
LEARNING_RATE                  0.001
LOSS_WEIGHTS                   {'rpn_class_loss': 1.0, 'rpn_bbox_loss': 1.0, 'mrcnn_class_loss': 1.0, 'mrcnn_bbox_loss': 1.0, 'mrcnn_mask_loss': 1.0}
MASK_POOL_SIZE                 14
MASK_SHAPE                     [28, 28]
MAX_GT_INSTANCES               100
MEAN_PIXEL                     [123.7 116.8 103.9]
MINI_MASK_SHAPE                (56, 56)
NAME                           coco_pretrained_model_config
NUM_CLASSES                    81
POOL_SIZE                      7
POST_NMS_ROIS_INFERENCE        1000
POST_NMS_ROIS_TRAINING         2000
PRE_NMS_LIMIT                  6000
ROI_POSITIVE_RATIO             0.33
RPN_ANCHOR_RATIOS              [0.5, 1, 2]
RPN_ANCHOR_SCALES              (32, 64, 128, 256, 512)
RPN_ANCHOR_STRIDE              1
RPN_BBOX_STD_DEV               [0.1 0.1 0.2 0.2]
RPN_NMS_THRESHOLD              0.7
RPN_TRAIN_ANCHORS_PER_IMAGE    256
STEPS_PER_EPOCH                1000
TOP_DOWN_PYRAMID_SIZE          256
TRAIN_BN                       False
TRAIN_ROIS_PER_IMAGE           200
USE_MINI_MASK                  True
USE_RPN_ROIS                   True
VALIDATION_STEPS               50
WEIGHT_DECAY                   0.0001


## making bounding box of the car
def get_car_boxes(boxes,class_ids): ## class_ids is the labels of the MaskRCNN
  car_boxes=[]
  for i,box in enumerate(boxes): ## each box of the free space we have to detect what is present in that free space
    if class_ids[i] in [3,8,6]: ## 3,8,6 are the label whereas 3 indicate the car,8 indicate the truck and 6 may be the person
      car_boxes.append(box)
  return np.array(car_boxes)
## twilio config
twilio_acc_sid="ACf5b2a892762d5c97bdb07583dd13a225"
twilio_auth_token="59eab84f49d3f00e6594479253b62147"
twilio_ph_no="+8283736953"
twilio_destination_no="+8617864426"
client=Client(twilio_acc_sid,twilio_auth_token)
## importing coco datasets
sys.path.append(os.path.join(root_dir,"/content/drive/MyDrive/MASKED_RCNN/Mask_RCNN/samples/coco"))
import coco
model_dir=os.path.join(root_dir, "logs")
coco_model_path= os.path.join(root_dir,"mask_rcnn_coco.h5")
if not os.path.exists(coco_model_path):
  mrcnn.utils.download_trained_weights(coco_model_path)
Downloading pretrained model to /content/drive/MyDrive/MASKED_RCNN/Mask_RCNN/mask_rcnn_coco.h5 ...
... done downloading pretrained model!
model=MaskRCNN(mode='inference',model_dir=model_dir,config=config)
model.load_weights(coco_model_path,by_name=True)
WARNING:tensorflow:From /usr/local/lib/python3.7/dist-packages/tensorflow/python/framework/op_def_library.py:263: colocate_with (from tensorflow.python.framework.ops) is deprecated and will be removed in a future version.
Instructions for updating:
Colocations handled automatically by placer.
WARNING:tensorflow:From /usr/local/lib/python3.7/dist-packages/keras/backend/tensorflow_backend.py:1154: calling reduce_max_v1 (from tensorflow.python.ops.math_ops) with keep_dims is deprecated and will be removed in a future version.
Instructions for updating:
keep_dims is deprecated, use keepdims instead
WARNING:tensorflow:From /usr/local/lib/python3.7/dist-packages/keras/backend/tensorflow_backend.py:1188: calling reduce_sum_v1 (from tensorflow.python.ops.math_ops) with keep_dims is deprecated and will be removed in a future version.
Instructions for updating:
keep_dims is deprecated, use keepdims instead
WARNING:tensorflow:From /content/drive/My Drive/MASKED_RCNN/Mask_RCNN/mrcnn/model.py:772: to_float (from tensorflow.python.ops.math_ops) is deprecated and will be removed in a future version.
Instructions for updating:
Use tf.cast instead.
video_source="/content/drive/MyDrive/MASKED_RCNN/AI_Car_parking_video.mp4"

## spotting park spaces
parked_car_box=None
car_box=None

video_cap=cv2.VideoCapture(video_source)
free_space_frame=0
sms_sent=False
count=0
temp=np.array(4,)
parked_car_box1=[None]*11

def checkEqual2(iterator):
  print(iterator)


## loop over each frame in the video
counter = 0
ref_image = None
ref_image_color = None
cumm_image = None
img_thresh_sub1 = None
final_ref = None

while True:
  ret,frame=video_cap.read()

  if not ret:
    print("couldn't read video")
    break

  elif counter<40:
    ## let's say the video having fps of 30 that means frame per second at much speed images is shown. Here for 40 frames we are checking at 1 sec a
    ## and then 1.1 second we are checking possibility of motion by MaskRCNN by creating two different video object two find out the difference 
    ## in background pixel to pixel.So that we can able to detect the movement of the pixel.
    ## creating another video object to compare the two different frame to find out the possibility of motion 
    ret,frame1=video_cap.read()
    d=cv2.absdiff(frame,frame1)
    grey=cv2.cvtColor(d,cv2.COLOR_BGR2GRAY)
    blur=cv2.GaussianBlur(grey,(1,1),0)
    rat,th=cv2.threshold(blur,20,255,cv2.THRESH_BINARY) 
     
    ## performing the morphological operation
    dilated=cv2.dilate(th,np.ones((30,30),np.uint8),iterations=1)
    erode=cv2.erode(dilated,np.ones((30,30),np.uint8),iterations=1)

    ## fill the contours for better morphing of the vechile
    c,_=cv2.findContours(erode,cv2.RETR_TREE, cv2.CHAIN_APPROX_SIMPLE)
    frame1=cv2.drawContours(frame1, c, -1, (0,0,0), cv2.FILLED) 

    ## now we will checking and visualize every five frame
    if counter%5==0:
      print("current frame per counter"+str(counter))
      plt.imshow(frame1)
      plt.show()

    counter=counter+1 ## here that means we will continue for 40fps for checking the possibility of motion and increase the count by 1 after this 
    continue      ## execution will be stop here.

  ## converting BGR colour to RGB color
  if counter==40:
    rgb_img=frame1[:,:,::-1]
    counter+=1
  else:
    rgb_img=frame[:,:,::-1]

  result=model.detect([rgb_img],verbose=0)
  r=result[0]

  if parked_car_box is None:
    print("going to mark vechile frame number:",counter)
    video_cap=cv2.VideoCapture(video_source)
    ## this is the first frame assume all the car detected in parking spaces and save the location of each car in parking space box and go to the 
    ## next frame
    parked_car_box=get_car_boxes(r['rois'],r['class_ids'])
  else:
    ## get where the car is currently located in the frame
    car_box=get_car_boxes(r['rois'],r['class_ids'])

    ## see how much car overlaps with the known parking space

    overlaps= mrcnn.utils.compute_overlaps(parked_car_box, car_box) ## sometimes in parking area the cars are veru close to each other so while 
    ## detecting car boxes may overlap with each other . So by MaskRCNN we detect that overlaps.

    ## assume no spaces are free until we find out the new one
    free_space=False

    ## now to clearly visualize the overlaps
    for parking_area,overlap_area in zip(parked_car_box,overlaps):
      ## find out the max overlap
      max_overlap=np.max(overlap_area)
      
      ## finding out of the cordinates of left bottom,right bottom,right and left upper of the parking area
      y1,x1,y2,x2=parking_area

      ## if the max_overlaps are less than particular threshold value that means parking space is available and making with green colour
      if max_overlap<0.15:
        cv2.rectangle(frame,(x1,y1),(x2,y2),(0,255,0),3)
        free_space=True

      else:
        cv2.rectangle(frame,(x1,y1),(x2,y2),(0,0,255),1) ## parking space is still occupied and marking by red box

      ## write the max overlaps measurement inside the box
      font=cv2.FONT_HERSHEY_DUPLEX
      cv2.putText(frame, f"{max_overlap:0.2}", (x1 + 6, y2 - 6), font, 0.3, (255, 255, 255))

      ## checking the parking space
      if free_space:
        free_space_frame += 1
      
      else:
        free_space_frame += 0 ## else reset to zero

      ## if the space is free for the several frames then it is really free
      if free_space_frame>120:
        font = cv2.FONT_HERSHEY_DUPLEX
        cv2.putText(frame, f"SPACE AVAILABLE!", (10, 150), font, 3.0, (0, 255, 0), 2, cv2.FILLED)

        ## sending sms
        if not sms_sent:
          print("SENDING SMS!!!")
          message=client.messages.create(body='PARKING SPACE AVAILABLE!!!',from_=twilio_ph_no,to=twilio_destination_no)
          sms_sent=True
          print("Hope to get a message to your respective phone number")


  ## showing the video frame and saving each frame
    name = str(count) + ".jpg"
    name = os.path.join('./ak', name)
    cv2.imwrite(name, frame)
    count+=1
    
    #'q' to quit
    if cv2.waitKey(1) & 0xFF == ord('q'):
      break
     

print("Video finished")
video_cap.release()  
current frame per counter0

current frame per counter5

current frame per counter10

current frame per counter15

current frame per counter20

current frame per counter25

current frame per counter30

current frame per counter35

going to mark vechile frame number: 41
SENDING SMS!!!
---------------------------------------------------------------------------
TwilioRestException                       Traceback (most recent call last)
 in ()
    122         if not sms_sent:
    123           print("SENDING SMS!!!")
--> 124           message=client.messages.create(body='PARKING SPACE AVAILABLE!!!',from_=twilio_ph_no,to=twilio_destination_no)
    125           sms_sent=True
    126           print("Hope to get a message to your respective phone number")

/usr/local/lib/python3.7/dist-packages/twilio/rest/api/v2010/account/message/__init__.py in create(self, to, status_callback, application_sid, max_price, provide_feedback, attempt, validity_period, force_delivery, content_retention, address_retention, smart_encoded, persistent_action, from_, messaging_service_sid, body, media_url)
     86         })
     87 
---> 88         payload = self._version.create(method='POST', uri=self._uri, data=data, )
     89 
     90         return MessageInstance(self._version, payload, account_sid=self._solution['account_sid'], )

/usr/local/lib/python3.7/dist-packages/twilio/base/version.py in create(self, method, uri, params, data, headers, auth, timeout, allow_redirects)
    203 
    204         if response.status_code < 200 or response.status_code >= 300:
--> 205             raise self.exception(method, uri, response, 'Unable to create record')
    206 
    207         return json.loads(response.text)

TwilioRestException: HTTP 400 error: Unable to create record: The 'To' number +8617864426 is not a valid phone number.
## creating a video including all the frame and the whole demonstration of the project in a single video
import glob
import os
import sys
images=list(glob.iglob(os.path.join('./MASKED_RCNN', '*.*')))
images=sorted(images, key=lambda x: float(os.path.split(x)[1][:-3]))

## outvid = output video,images =list of images use in the video, fps= frame per second,size=size of
               ## each frame

def make_video(outvid, images=None, fps=30, size=None,is_color=True, format="FMP4"):
  from cv2 import VideoWriter,VideoWriter_fourcc,imread,resize
  fourcc=VideoWriter_fourcc(*format)
  vid=None
  for image in images:
    if not os.path.exists(image):
      raise FileNotFoundError(image) 
    img=imread(image)
    if vid is None:
      if size is None:
        size=img.shape[1],img.shape[0]
      vid=VideoWriter(outvid,fourcc,float(fps),size,is_color)
    
    if size[0]!=img.shape[1] and size[1]!=img.shape[0]:
      img=resize(img,size)
    vid.write(img)

  vid.release()
  return vid

make_video(' ',images,fps=30)
  
---------------------------------------------------------------------------
AttributeError                            Traceback (most recent call last)
 in ()
     29   return vid
     30 
---> 31 make_video(' ',images,fps=30)
     32 

 in make_video(outvid, images, fps, size, is_color, format)
     26     vid.write(img)
     27 
---> 28   vid.release()
     29   return vid
     30 

AttributeError: 'NoneType' object has no attribute 'release'
